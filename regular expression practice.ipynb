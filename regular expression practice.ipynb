{
 "cells": [
  {
   "cell_type": "code",
   "execution_count": null,
   "id": "f9a13a0c",
   "metadata": {},
   "outputs": [],
   "source": []
  },
  {
   "cell_type": "code",
   "execution_count": null,
   "id": "707ffa8b",
   "metadata": {},
   "outputs": [],
   "source": []
  },
  {
   "cell_type": "code",
   "execution_count": 28,
   "id": "e8925ca9",
   "metadata": {},
   "outputs": [
    {
     "name": "stdout",
     "output_type": "stream",
     "text": [
      "['python', 'p999ll', 'progra', 'progra', 'partic']\n",
      "['python', 'p999ll', 'progra', 'progra', 'partic']\n"
     ]
    }
   ],
   "source": [
    "stringName = \"python p999ll  wiprogram programming world book that contains particular examples from pp14 since 2023\"\n",
    "import re \n",
    "res = re.findall(r\"p\\w\\w\\w\\w\\w\" , stringName)\n",
    "print(res)\n",
    "res = re.findall(r\"p\\w{5}\" , stringName)\n",
    "print(res)"
   ]
  },
  {
   "cell_type": "code",
   "execution_count": 33,
   "id": "97ae7e93",
   "metadata": {},
   "outputs": [
    {
     "name": "stdout",
     "output_type": "stream",
     "text": [
      "['programmin', 'particular']\n",
      "['programmin', 'particular']\n"
     ]
    }
   ],
   "source": [
    "stringName = \"python p999ll wiprogram programming world book that contains particular examples from pp14 since 2023\"\n",
    "import re \n",
    "res = re.findall(r\"p\\w\\w\\w\\w\\w\\w\\w\\w\\w\" , stringName)\n",
    "print(res)\n",
    "res = re.findall(r\"p\\w{9}\" ,stringName)\n",
    "print(res)"
   ]
  },
  {
   "cell_type": "code",
   "execution_count": 39,
   "id": "78af183f",
   "metadata": {},
   "outputs": [
    {
     "name": "stdout",
     "output_type": "stream",
     "text": [
      "['python', 'p999ll']\n"
     ]
    }
   ],
   "source": [
    "# Find the word that start with p and is 6 char long\n",
    "stringName = \"python p999ll  wiprogram programming world book that contains particular examples from pp14 since 2023\"\n",
    "import re \n",
    "res = re.findall(r\"\\bp\\w{5}\\b\" , stringName)\n",
    "print(res)\n"
   ]
  },
  {
   "cell_type": "code",
   "execution_count": 41,
   "id": "c87b07b8",
   "metadata": {},
   "outputs": [
    {
     "name": "stdout",
     "output_type": "stream",
     "text": [
      "['ball', 'bP71', 'book']\n",
      "['ex', 'es']\n"
     ]
    }
   ],
   "source": [
    "# Find the word that start with b and is 4 char long\n",
    "# Find the patterns that start with e and is 2 char long\n",
    "\n",
    "stringName = \"python p999ll football  wiprogram programming bP71 world book that contains particular examples from pp14 since 2023\"\n",
    "import re\n",
    "res = re.findall(r\"b\\w{3}\" , stringName)\n",
    "print(res)\n",
    "res = re.findall(r\"e\\w{1}\" , stringName)\n",
    "print(res)"
   ]
  },
  {
   "cell_type": "code",
   "execution_count": 43,
   "id": "306b845e",
   "metadata": {},
   "outputs": [
    {
     "name": "stdout",
     "output_type": "stream",
     "text": [
      "['a', 'an', 'apple', 'all', 'a']\n"
     ]
    }
   ],
   "source": [
    "stringName = \"a an apple ball cla\"\n",
    "import re\n",
    "res = re.findall(r\"a\\w{,}\" , stringName)\n",
    "print(res)"
   ]
  },
  {
   "cell_type": "code",
   "execution_count": 46,
   "id": "5e3eb4cc",
   "metadata": {},
   "outputs": [
    {
     "name": "stdout",
     "output_type": "stream",
     "text": [
      "['apple']\n"
     ]
    }
   ],
   "source": [
    "stringName = \"a an apple ball cla\"\n",
    "import re \n",
    "res = re.findall(r\"a\\w{4}\" , stringName)\n",
    "print(res)"
   ]
  },
  {
   "cell_type": "code",
   "execution_count": 2,
   "id": "6e93133c",
   "metadata": {},
   "outputs": [
    {
     "name": "stdout",
     "output_type": "stream",
     "text": [
      "('we', 'are', 'humans')\n"
     ]
    }
   ],
   "source": [
    "import re\n",
    "sentence = 'we are humans'\n",
    "\n",
    "matched = re.match(r'(.*) (.*?) (.*)', sentence)\n",
    "\n",
    "print(matched.groups())"
   ]
  },
  {
   "cell_type": "code",
   "execution_count": 3,
   "id": "0fe4735e",
   "metadata": {},
   "outputs": [
    {
     "name": "stdout",
     "output_type": "stream",
     "text": [
      "we are humans\n"
     ]
    }
   ],
   "source": [
    "import re\n",
    "sentence = 'we are humans'\n",
    "\n",
    "matched = re.match(r'(.*) (.*?) (.*)', sentence)\n",
    "\n",
    "print(matched.group())\n",
    "\n"
   ]
  },
  {
   "cell_type": "code",
   "execution_count": 5,
   "id": "909d5bf1",
   "metadata": {},
   "outputs": [
    {
     "name": "stdout",
     "output_type": "stream",
     "text": [
      "('horses', 'are', 'fast')\n"
     ]
    }
   ],
   "source": [
    "import re\n",
    "sentence = 'horses are fast'\n",
    "\n",
    "regex = re.compile('(?P<animal>\\w+) (?P<verb>\\w+) (?P<adjective>\\w+)')\n",
    "\n",
    "matched = re.search(regex, sentence)\n",
    "\n",
    "print(matched.groups())"
   ]
  },
  {
   "cell_type": "code",
   "execution_count": null,
   "id": "15962369",
   "metadata": {},
   "outputs": [],
   "source": []
  }
 ],
 "metadata": {
  "kernelspec": {
   "display_name": "Python 3 (ipykernel)",
   "language": "python",
   "name": "python3"
  },
  "language_info": {
   "codemirror_mode": {
    "name": "ipython",
    "version": 3
   },
   "file_extension": ".py",
   "mimetype": "text/x-python",
   "name": "python",
   "nbconvert_exporter": "python",
   "pygments_lexer": "ipython3",
   "version": "3.9.13"
  }
 },
 "nbformat": 4,
 "nbformat_minor": 5
}
